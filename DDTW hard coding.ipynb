{
 "cells": [
  {
   "cell_type": "markdown",
   "metadata": {},
   "source": [
    "# Derivative Dynamic Time Warping "
   ]
  },
  {
   "cell_type": "markdown",
   "metadata": {},
   "source": [
    "##### Loading Packages"
   ]
  },
  {
   "cell_type": "code",
   "execution_count": 1,
   "metadata": {
    "scrolled": true
   },
   "outputs": [],
   "source": [
    "# Boto Package\n",
    "import boto3\n",
    "import json\n",
    "\n",
    "# Graphing Packages\n",
    "import matplotlib.pyplot as plt\n",
    "plt.style.use('bmh')\n",
    "\n",
    "# Numpy\n",
    "import numpy as np\n",
    "\n",
    "# Pandas\n",
    "import pandas as pd\n",
    "\n",
    "# Datetime\n",
    "import datetime\n",
    "import pytz\n"
   ]
  },
  {
   "cell_type": "code",
   "execution_count": 2,
   "metadata": {
    "tags": []
   },
   "outputs": [],
   "source": [
    "tz = pytz.timezone('Asia/Singapore')"
   ]
  },
  {
   "cell_type": "code",
   "execution_count": 3,
   "metadata": {},
   "outputs": [],
   "source": [
    "def acc_clean(df_a):\n",
    "    acc = df_a.copy()\n",
    "    acc.reset_index(drop=True, inplace=True)\n",
    "\n",
    "    # Processing Timestamp\n",
    "    acc['Timestamp'] = pd.to_numeric(acc['Timestamp'])\n",
    "\n",
    "    # Convert Timestamp\n",
    "    from datetime import datetime\n",
    "    # note that timeline is in miliseconds\n",
    "    # divide by 1000 before converting\n",
    "    acc['Timestamp'] = acc['Timestamp'].astype(float)\n",
    "    acc['Timestamps'] = acc['Timestamp'].astype(float)/1000\n",
    "    acc['Time'] = acc['Timestamps'].apply(lambda x : datetime.fromtimestamp(x,tz))\n",
    "    acc['Time'] = acc['Time'].dt.strftime(\"%Y-%m-%d %H:%M:%S\")\n",
    " \n",
    " \n",
    "    acc.drop(['Timestamps'], axis=1, inplace=True)\n",
    "    acc['X'] = acc['X'].astype(float)\n",
    "    acc['Y'] = acc['Y'].astype(float)\n",
    "    acc['Z'] = acc['Z'].astype(float)\n",
    "\n",
    "    # Calculating the total acceleration with the formula\n",
    "    acc['X2'] = acc['X'].astype(float).apply(np.square)\n",
    "    acc['Y2'] = acc['Y'].astype(float).apply(np.square)\n",
    "    acc['Z2'] = acc['Z'].astype(float).apply(np.square)\n",
    "\n",
    "    # Calculating acceleration \n",
    "    acc['Total Acceleration'] = np.sqrt(acc['X2'] + acc['Y2'] + acc['Z2'])\n",
    "    pd.to_numeric(acc['Total Acceleration'])\n",
    "\n",
    "    # Drop X2, Y2, Z2\n",
    "    acc.drop(['X2'], axis = 1, inplace = True)\n",
    "    acc.drop(['Y2'], axis = 1, inplace = True)\n",
    "    acc.drop(['Z2'], axis = 1, inplace = True)\n",
    "\n",
    "    # Converting X, Y and Z to numeric\n",
    "    acc['X'] =  round(pd.to_numeric(acc['X']),6)\n",
    "    acc['Y'] =  round(pd.to_numeric(acc['Y']),6)\n",
    "    acc['Z'] =  round(pd.to_numeric(acc['Z']),6)\n",
    "\n",
    "    return acc"
   ]
  },
  {
   "cell_type": "markdown",
   "metadata": {},
   "source": [
    "### Derivative Dynamic Time Warping (DDTW)\n",
    "\n",
    "#### With DDTW, we need to create higher level features from the signal obtained"
   ]
  },
  {
   "cell_type": "code",
   "execution_count": 5,
   "metadata": {},
   "outputs": [],
   "source": [
    "import scipy"
   ]
  },
  {
   "cell_type": "code",
   "execution_count": 6,
   "metadata": {},
   "outputs": [],
   "source": [
    "import numpy as np\n",
    "import matplotlib.pyplot as plt\n",
    "\n",
    "from sklearn import preprocessing\n",
    "from sklearn.preprocessing import StandardScaler\n",
    "from sklearn.metrics import accuracy_score,zero_one_loss\n",
    "\n",
    "import time"
   ]
  },
  {
   "cell_type": "code",
   "execution_count": 7,
   "metadata": {},
   "outputs": [],
   "source": [
    "# Standardisation of the two time series\n",
    "# Normalisation of the data\n",
    "# Creating higher level features with the equation given in the paper\n",
    "\n",
    "from scipy import stats\n",
    "\n",
    "def ddtw_preprocessing_norm1(ac):\n",
    "    xf = ac['Xf'].values\n",
    "    yf = ac['Yf'].values\n",
    "    zf = ac['Zf'].values\n",
    "\n",
    "    time = ac['Time'].values\n",
    "    timestamps = ac['Timestamp'].values\n",
    "    timestamp = timestamps\n",
    "    filteracc = np.array(ac[['filteracceleration']])\n",
    "\n",
    "    cleanacc = []\n",
    "    for sublist in filteracc:\n",
    "        for item in sublist:\n",
    "            cleanacc.append(item)\n",
    "    \n",
    "    cleanacc = stats.zscore(cleanacc)\n",
    "\n",
    "    ###### Done with normalisation of filtered total acceleration#####\n",
    "    \n",
    "    ##### transforming original points to higher-level function for DDTW #####    \n",
    "\n",
    "    ac_n = pd.DataFrame({'time':time, 'timestamp':timestamp, 'xf':xf, 'yf':yf, 'zf':zf, 'cleanacc': cleanacc})\n",
    "    \n",
    "    ac_n['cleanacclag1'] = ac_n.cleanacc.shift(1, fill_value = 0)\n",
    "    \n",
    "    ac_n['cleanaccplus1'] = ac_n.cleanacc.shift(-1,fill_value = 0)\n",
    "    \n",
    "    ac_n['cleanh'] = ac_n['cleanacc'] - ac_n['cleanacclag1'] + ((ac_n['cleanaccplus1'] + ac_n['cleanacclag1'])/2) # transforming to higher-level features\n",
    "    \n",
    "    ac_n['cleanh'] = ac_n['cleanh']/2\n",
    "    \n",
    "    return ac_n"
   ]
  },
  {
   "cell_type": "markdown",
   "metadata": {},
   "source": [
    "## Hard-coding DTW\n",
    "\n",
    "#### Package does not work well on Python so we hard-coded the dynamic time warping process. \n",
    "\n",
    "#### Note: Codes are specific to this particular project that I did, Users should tweak codes to their context. \n",
    "\n",
    "#### I was working on smartphone sensor data that is triaxial. The 'dnorm' is a score for the DDTW/ DTW.\n",
    "\n",
    "#### DDTW is essentially DTW on the higher level features obtained from the above code.\n",
    "\n",
    "#### The more similar two signals are, the lower the dnorm will be."
   ]
  },
  {
   "cell_type": "code",
   "execution_count": 29,
   "metadata": {
    "tags": []
   },
   "outputs": [],
   "source": [
    "## Function to obtain the normalised DTW score with two series of cleaned and filtered data in a numpy series format\n",
    "def dtw_modeldist1(series1,series2):\n",
    "     \n",
    "    # creating the m x n matrix\n",
    "    i = len(series1)\n",
    "    j = len(series2)\n",
    "\n",
    "    # calculating distance of warping path\n",
    "    def dtw_dist(s, t):\n",
    "        n, m = len(s), len(t)\n",
    "        dtw_matrix = np.zeros((n+1, m+1))\n",
    "        for i in range(n+1):\n",
    "            for j in range(m+1):\n",
    "                dtw_matrix[i, j] = np.inf\n",
    "        dtw_matrix[0, 0] = 0\n",
    "    \n",
    "        for i in range(1, n+1):\n",
    "            for j in range(1, m+1):\n",
    "                cost = np.square(s[i-1] - t[j-1])\n",
    "                # take last min from a square box\n",
    "                last_min = np.min([dtw_matrix[i-1, j], dtw_matrix[i, j-1], dtw_matrix[i-1, j-1]])\n",
    "                dtw_matrix[i, j] = cost + last_min\n",
    "        return dtw_matrix\n",
    "\n",
    "    dtw_dist = dtw_dist(series1,series2)\n",
    "    distance = dtw_dist[i,j] # top right element is the accumulated distance matrix\n",
    "    \n",
    "    # traceback\n",
    "    \n",
    "    def _traceback(D):\n",
    "        i, j = np.array(D.shape) - 2\n",
    "        p, q = [i], [j]\n",
    "        while (i > 0) or (j > 0):\n",
    "            tb = np.argmin((D[i, j], D[i, j + 1], D[i + 1, j]))\n",
    "            if tb == 0:\n",
    "                i -= 1\n",
    "                j -= 1\n",
    "            elif tb == 1:\n",
    "                i -= 1\n",
    "            else:  # (tb == 2):\n",
    "                j -= 1\n",
    "            p.insert(0, i)\n",
    "            q.insert(0, j)\n",
    "        return np.array(p), np.array(q)\n",
    "\n",
    "    path = _traceback(dtw_dist)\n",
    "\n",
    "    #processing to get the dnorm\n",
    "    ilist = path[0].tolist()\n",
    "    jlist = path[1].tolist()\n",
    "\n",
    "    pathdist = []\n",
    "\n",
    "    for i in range(len(path[0])):\n",
    "        il = ilist[i]\n",
    "        jl = jlist[i]\n",
    "        t = float(dtw_dist[il][jl])\n",
    "        pathdist.append(t)\n",
    "    \n",
    "    from numpy import inf\n",
    "    for i in range(len(pathdist)):\n",
    "        if pathdist[i] == inf:\n",
    "            pathdist[i] = 0.0\n",
    "\n",
    "    pathdistsum = sum(pathdist)\n",
    "\n",
    "    # normalisation \n",
    "    def normdtw(path,pathdistsum):\n",
    "        dnorm = pathdistsum/(i*j) *(len(path[0]))\n",
    "        return dnorm\n",
    "    \n",
    "    dnorm = normdtw(path,distance)\n",
    "   \n",
    "    return distance, dtw_dist, path, dnorm"
   ]
  }
 ],
 "metadata": {
  "kernelspec": {
   "display_name": "Python 3",
   "language": "python",
   "name": "python3"
  },
  "language_info": {
   "codemirror_mode": {
    "name": "ipython",
    "version": 3
   },
   "file_extension": ".py",
   "mimetype": "text/x-python",
   "name": "python",
   "nbconvert_exporter": "python",
   "pygments_lexer": "ipython3",
   "version": "3.7.6"
  }
 },
 "nbformat": 4,
 "nbformat_minor": 2
}
